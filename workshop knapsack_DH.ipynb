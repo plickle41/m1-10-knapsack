{
 "cells": [
  {
   "cell_type": "markdown",
   "metadata": {},
   "source": [
    "Dylan Hastings"
   ]
  },
  {
   "cell_type": "markdown",
   "metadata": {},
   "source": [
    "## Knapsack Problem\n",
    "\n",
    "The *knapsack problem*:  given a set of integers $S = \\{s_1, s_2, \\ldots, s_n\\}$ and a target number $T$, find a subset (i.e., knapsack) of $S$ which adds up exactly to $T$.  \n",
    "\n",
    "For example, if $S = \\{1,2,5, 9, 10\\}$, there is a subset that adds up to $T = 22$, but not to $T = 23$.  Complete the following tasks related to this problem."
   ]
  },
  {
   "cell_type": "markdown",
   "metadata": {},
   "source": [
    "# 1. \n",
    "\n",
    "Find a subset of $S = \\{1,2,5, 9, 10\\}$ with sum $T = 22$."
   ]
  },
  {
   "cell_type": "code",
   "execution_count": 6,
   "metadata": {},
   "outputs": [
    {
     "data": {
      "text/plain": [
       "22"
      ]
     },
     "execution_count": 6,
     "metadata": {},
     "output_type": "execute_result"
    }
   ],
   "source": [
    "S1 = {1, 2, 9, 10}\n",
    "sum(S1)"
   ]
  },
  {
   "cell_type": "markdown",
   "metadata": {},
   "source": [
    "Explain the process (algorithm) you used mentally to find the subset."
   ]
  },
  {
   "cell_type": "markdown",
   "metadata": {},
   "source": [
    "Knowing there is a 2 and a 1, I tried to find a combination of the remaining numbers that is close to 22.  I was able to do this by adding 9 and 10 to make 19.  I then added the 1 and the 2 to make 22."
   ]
  },
  {
   "cell_type": "markdown",
   "metadata": {},
   "source": [
    "Then apply the same process in an attempt to find a subset with sum $T = 23$."
   ]
  },
  {
   "cell_type": "markdown",
   "metadata": {},
   "source": [
    "Applying this same process, I again sum 9 and 10 to make 19.  However, if I add the 1 and 2, I am still 1 short of 23.  If I add the 5, I have 24."
   ]
  },
  {
   "cell_type": "markdown",
   "metadata": {},
   "source": [
    "How do you know there is no such subset?"
   ]
  },
  {
   "cell_type": "markdown",
   "metadata": {},
   "source": [
    "Since 1+2+5+9 is only 17 and 1+2+5+10 is only 18, we know both the 9 and 10 must be used.  From there, we can apply a similar method to the one above to determine that no subset can have a sum of 23."
   ]
  },
  {
   "cell_type": "markdown",
   "metadata": {
    "collapsed": true
   },
   "source": [
    "# 2.\n",
    "\n",
    "Consider the following possible algorithm for the knapsack problem, written in psuedocode: \n",
    "```python\n",
    "knapsack(S[], T):\n",
    "    K = empty\n",
    "    for each i < size(S)\n",
    "        if sum(K) + S[i] <= T, put S[i] into K\n",
    "    if sum(K) = T, return K, else return False.\n",
    "```\n",
    "**a)** Describe what this algorithm does in English."
   ]
  },
  {
   "cell_type": "markdown",
   "metadata": {},
   "source": [
    "Given a list S and a value T, this algorithm sequentially adds values in S and checks if they are equal or less than T.  Once this is the case, the algorith returns the subset if the sum of this subset is T, and False otherwise."
   ]
  },
  {
   "cell_type": "markdown",
   "metadata": {},
   "source": [
    "**b)** Implement this algorithm in Python and run it on the $S$ and $T$ above."
   ]
  },
  {
   "cell_type": "code",
   "execution_count": 53,
   "metadata": {},
   "outputs": [],
   "source": [
    "def knapsack(S, T):\n",
    "    K = []\n",
    "    s = list(S)\n",
    "    \n",
    "    for i in range(len(s)):\n",
    "        if sum(K) + s[i] <= T:\n",
    "            K.append(s[i])\n",
    "            \n",
    "    if sum(K) == T: return set(K)\n",
    "    else: return False"
   ]
  },
  {
   "cell_type": "code",
   "execution_count": 54,
   "metadata": {},
   "outputs": [
    {
     "data": {
      "text/plain": [
       "False"
      ]
     },
     "execution_count": 54,
     "metadata": {},
     "output_type": "execute_result"
    }
   ],
   "source": [
    "knapsack({1, 2, 5, 9, 10}, 22)"
   ]
  },
  {
   "cell_type": "markdown",
   "metadata": {},
   "source": [
    "**c)** Prove that this algorithm is NOT correct.  That is, find a counterexample: a set $S$ and number $T$ for which there is a solution, but not one that the algorithm finds."
   ]
  },
  {
   "cell_type": "markdown",
   "metadata": {},
   "source": [
    "The example given is a counterexample.  We know that the sum of the subset {1, 2, 9, 10} is 22, but this is not found by the algorithm."
   ]
  },
  {
   "cell_type": "markdown",
   "metadata": {},
   "source": [
    "**d)** Verify that this particular $S$ and $T$ does not give the right output when entered to your Python program."
   ]
  },
  {
   "cell_type": "code",
   "execution_count": 32,
   "metadata": {},
   "outputs": [
    {
     "data": {
      "text/plain": [
       "False"
      ]
     },
     "execution_count": 32,
     "metadata": {},
     "output_type": "execute_result"
    }
   ],
   "source": [
    "knapsack({1, 2, 5, 9, 10}, 22)"
   ]
  },
  {
   "cell_type": "markdown",
   "metadata": {},
   "source": [
    "# 3. \n",
    "\n",
    "Another try: What if you put the elements in the knapsack from largest to smallest?  Check that this too is not a correct algorithm."
   ]
  },
  {
   "cell_type": "code",
   "execution_count": 55,
   "metadata": {},
   "outputs": [],
   "source": [
    "def knapsack_sorted(S, T):\n",
    "    K = []\n",
    "    s = list(S)\n",
    "    s.sort(reverse=True)\n",
    "    \n",
    "    for i in range(len(s)):\n",
    "        if sum(K) + s[i] <= T:\n",
    "            K.append(s[i])\n",
    "            \n",
    "    if sum(K) == T: return set(K)\n",
    "    else: return False"
   ]
  },
  {
   "cell_type": "code",
   "execution_count": 72,
   "metadata": {},
   "outputs": [
    {
     "data": {
      "text/plain": [
       "False"
      ]
     },
     "execution_count": 72,
     "metadata": {},
     "output_type": "execute_result"
    }
   ],
   "source": [
    "knapsack_sorted({4, 8, 5, 7, 9}, 20)"
   ]
  },
  {
   "cell_type": "markdown",
   "metadata": {},
   "source": [
    "This algorith returns False even though the sum of the subset{4, 7, 9} is 20."
   ]
  },
  {
   "cell_type": "markdown",
   "metadata": {},
   "source": [
    "# 4.\n",
    "\n",
    "Describe a correct algorithm for the knapsack problem (that we haven't seen in class), both in English and in pseudocode.  Then implement the algorithm in Python.  Explain how you know your algorithm is correct (even if it might not be efficient)."
   ]
  },
  {
   "cell_type": "markdown",
   "metadata": {},
   "source": [
    "Since both of the above algorithms are insufficient, it is clear we cannot sequentially add to sum, even with a sorted list.  We have to check the sum of all of combinations of subsets.  If the sum is equal to the desired value, we return the combination.  If we have checked all combinations, and the sum is not obtained, we return False.\n",
    "\n",
    "In pseudocode:\n",
    "\n",
    "```python\n",
    "knapsack(S[], T):\n",
    "    for each i < size(S)\n",
    "        if combination of S give T, return combination\n",
    "    return False\n",
    "```"
   ]
  },
  {
   "cell_type": "code",
   "execution_count": 3,
   "metadata": {},
   "outputs": [],
   "source": [
    "from itertools import combinations"
   ]
  },
  {
   "cell_type": "code",
   "execution_count": 22,
   "metadata": {},
   "outputs": [],
   "source": [
    "def knapsack(S, T):\n",
    "    \n",
    "    for i in range(len(S), 0, -1):\n",
    "        for e in combinations(S, i):\n",
    "            if sum(e) == T: return set(e)\n",
    "    \n",
    "    return False"
   ]
  },
  {
   "cell_type": "code",
   "execution_count": 23,
   "metadata": {
    "scrolled": true
   },
   "outputs": [
    {
     "data": {
      "text/plain": [
       "{1, 2, 9, 10}"
      ]
     },
     "execution_count": 23,
     "metadata": {},
     "output_type": "execute_result"
    }
   ],
   "source": [
    "knapsack({1, 2, 5, 9, 10}, 22)"
   ]
  },
  {
   "cell_type": "code",
   "execution_count": 28,
   "metadata": {},
   "outputs": [
    {
     "data": {
      "text/plain": [
       "{1, 2}"
      ]
     },
     "execution_count": 28,
     "metadata": {},
     "output_type": "execute_result"
    }
   ],
   "source": [
    "knapsack({1,2,3}, 3)"
   ]
  },
  {
   "cell_type": "markdown",
   "metadata": {},
   "source": [
    "Although this algorith may not be efficient, we can be sure that it works since it checks all combinations in the set. "
   ]
  },
  {
   "cell_type": "markdown",
   "metadata": {
    "collapsed": true
   },
   "source": [
    "# 5. Generating correct change\n",
    "\n",
    "Now, we will be making change using the fewest coins. \n",
    "\n",
    "Suppose you are a programmer for a vending machine manufacturer. Your company wants to streamline effort by giving out the fewest possible coins in change for each transaction. Suppose a customer puts in a dollar bill and purchases an item for 37 cents. What is the smallest number of coins you can use to make change? The answer is six coins: two quarters, one dime, and three pennies. \n",
    "\n",
    "How did we arrive at the answer of six coins? We start with the largest coin in our arsenal (a quarter) and use as many of those as possible, then we go to the next lowest coin value and use as many of those as possible. This is the greedy algorithm for change-making.\n",
    "\n",
    "**Question:** Write the greedy algorithm for change making.\n",
    "\n",
    "The input is the amount of change to generate (in pennies) and a list of coin sizes (in pennies)\n",
    "\n",
    "The output is the minimum number of coins to gener\n",
    "\n",
    "```\n",
    "# buys with 1 dollar for 37 pennies\n",
    "# Second argument says we can give quarters, dimes, nickels and pennies\n",
    "make_change(100 - 37, [25, 10, 5, 1])\n",
    "\n",
    "# 2 quarters, one dime, and three pennies\n",
    "output --> 6 # Output would be equivalent to the choices [2, 1, 0, 3]\n",
    "```"
   ]
  },
  {
   "cell_type": "code",
   "execution_count": 46,
   "metadata": {},
   "outputs": [],
   "source": [
    "def make_change(change, coin_sizes):\n",
    "    '''\n",
    "    Input:\n",
    "    Amount of change to generate (in pennies)\n",
    "    List of coin sizes\n",
    "    Output:\n",
    "    Minimum number of coins to generate\n",
    "    '''\n",
    "    coins = coin_sizes\n",
    "    coins.sort(reverse=True)\n",
    "    remaining_change = change\n",
    "    num_of_coins = 0\n",
    "    \n",
    "    for current_coin in coins:\n",
    "        max_coin_num = remaining_change // current_coin\n",
    "        remaining_change = remaining_change % current_coin\n",
    "        num_of_coins += max_coin_num\n",
    "        \n",
    "    if remaining_change > 0: #no pennies available\n",
    "        plural = \"s\" if remaining_change != 1 else \"\"\n",
    "        print(f\"Unable to distribute remaining {remaining_change} cent{plural}\")\n",
    "        \n",
    "    return num_of_coins"
   ]
  },
  {
   "cell_type": "code",
   "execution_count": 50,
   "metadata": {},
   "outputs": [
    {
     "data": {
      "text/plain": [
       "6"
      ]
     },
     "execution_count": 50,
     "metadata": {},
     "output_type": "execute_result"
    }
   ],
   "source": [
    "make_change(100 - 37, [25, 10, 5, 1])"
   ]
  },
  {
   "cell_type": "markdown",
   "metadata": {},
   "source": [
    "# 6 Recursive change\n",
    "\n",
    "Write the greedy change making algorithm using recursion"
   ]
  },
  {
   "cell_type": "code",
   "execution_count": 83,
   "metadata": {},
   "outputs": [],
   "source": [
    "def make_change(change, coin_sizes):\n",
    "    \n",
    "    coin_sizes.sort()\n",
    "    \n",
    "    return make_change_recursive(change, coin_sizes)"
   ]
  },
  {
   "cell_type": "code",
   "execution_count": 97,
   "metadata": {},
   "outputs": [],
   "source": [
    "def make_change_recursive(change, coin_sizes):\n",
    "    '''\n",
    "    Input:\n",
    "    Amount of change to generate (in pennies)\n",
    "    List of coin sizes\n",
    "    Output:\n",
    "    Minimum number of coins to generate\n",
    "    '''\n",
    "    \n",
    "    if len(coin_sizes) == 0:\n",
    "        \n",
    "        if change > 0:  #no pennies available\n",
    "            plural = \"s\" if change != 1 else \"\"\n",
    "            print(f\"Unable to distribute remaining {change} cent{plural}\")\n",
    "            \n",
    "        return 0\n",
    "    \n",
    "    coin_size = coin_sizes.pop()\n",
    "    coin_used = change // coin_size\n",
    "    remainder = change % coin_size\n",
    "    \n",
    "    if remainder > 0:\n",
    "        coin_used += make_change_recursive(remainder, coin_sizes)\n",
    "        \n",
    "    return coin_used"
   ]
  },
  {
   "cell_type": "code",
   "execution_count": 102,
   "metadata": {},
   "outputs": [
    {
     "data": {
      "text/plain": [
       "6"
      ]
     },
     "execution_count": 102,
     "metadata": {},
     "output_type": "execute_result"
    }
   ],
   "source": [
    "make_change(100 - 37, [25, 10, 5, 1])"
   ]
  },
  {
   "cell_type": "markdown",
   "metadata": {},
   "source": [
    "# 7 (Stretch) Dynamic Programming Change making\n",
    "\n",
    "Write a solution to the change making problem using dynamic programming.\n",
    "\n",
    "**Hint:** Start with making change for one cent and systematically work its way up to the amount of change we require. This guarantees us that at each step of the algorithm we already know the minimum number of coins needed to make change for any smaller amount. Keep a memoized table of results for each step working up to the amount of change you need to generate."
   ]
  },
  {
   "cell_type": "code",
   "execution_count": 105,
   "metadata": {},
   "outputs": [],
   "source": [
    "def make_change(change, coin_sizes):\n",
    "    \n",
    "    coin_sizes.sort()\n",
    "    \n",
    "    return make_change_recursive(change, coin_sizes, {})"
   ]
  },
  {
   "cell_type": "code",
   "execution_count": 108,
   "metadata": {},
   "outputs": [],
   "source": [
    "def make_change_recursive(change, coin_sizes, lookup):\n",
    "    '''\n",
    "    Input:\n",
    "    Amount of change to generate (in pennies)\n",
    "    List of coin sizes\n",
    "    Output:\n",
    "    Minimum number of coins to generate\n",
    "    '''\n",
    "    \n",
    "    if len(coin_sizes) == 0:\n",
    "        \n",
    "        if change > 0:  #no pennies available\n",
    "            plural = \"s\" if change != 1 else \"\"\n",
    "            print(f\"Unable to distribute remaining {change} cent{plural}\")\n",
    "            \n",
    "        return 0\n",
    "    \n",
    "    if change in lookup: #Found change in lookup\n",
    "        return lookup[change]\n",
    "    \n",
    "    coin_size = coin_sizes.pop()\n",
    "    coin_used = change // coin_size\n",
    "    remainder = change % coin_size\n",
    "    \n",
    "    if remainder > 0:\n",
    "        coin_used += make_change_recursive(remainder, coin_sizes, lookup)\n",
    "        \n",
    "    return coin_used"
   ]
  },
  {
   "cell_type": "code",
   "execution_count": 109,
   "metadata": {},
   "outputs": [
    {
     "data": {
      "text/plain": [
       "6"
      ]
     },
     "execution_count": 109,
     "metadata": {},
     "output_type": "execute_result"
    }
   ],
   "source": [
    "make_change(100 - 37, [25, 10, 5, 1])"
   ]
  },
  {
   "cell_type": "code",
   "execution_count": null,
   "metadata": {},
   "outputs": [],
   "source": []
  }
 ],
 "metadata": {
  "kernelspec": {
   "display_name": "Python 3",
   "language": "python",
   "name": "python3"
  },
  "language_info": {
   "codemirror_mode": {
    "name": "ipython",
    "version": 3
   },
   "file_extension": ".py",
   "mimetype": "text/x-python",
   "name": "python",
   "nbconvert_exporter": "python",
   "pygments_lexer": "ipython3",
   "version": "3.8.3"
  }
 },
 "nbformat": 4,
 "nbformat_minor": 1
}
